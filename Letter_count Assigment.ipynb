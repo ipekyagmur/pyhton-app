{
  "nbformat": 4,
  "nbformat_minor": 0,
  "metadata": {
    "colab": {
      "name": "Untitled13.ipynb",
      "provenance": [],
      "authorship_tag": "ABX9TyPEm3k4HadHUrwF/sC2yewY",
      "include_colab_link": true
    },
    "kernelspec": {
      "name": "python3",
      "display_name": "Python 3"
    },
    "language_info": {
      "name": "python"
    }
  },
  "cells": [
    {
      "cell_type": "markdown",
      "metadata": {
        "id": "view-in-github",
        "colab_type": "text"
      },
      "source": [
        "<a href=\"https://colab.research.google.com/github/Yunus2038/pyhton-app/blob/main/Letter_count%20Assigment.ipynb\" target=\"_parent\"><img src=\"https://colab.research.google.com/assets/colab-badge.svg\" alt=\"Open In Colab\"/></a>"
      ]
    },
    {
      "cell_type": "code",
      "execution_count": 5,
      "metadata": {
        "colab": {
          "base_uri": "https://localhost:8080/"
        },
        "id": "hhX4eJKF-znd",
        "outputId": "e0445213-94a1-4630-ee59-5ed961d00bb1"
      },
      "outputs": [
        {
          "output_type": "stream",
          "name": "stdout",
          "text": [
            "{'B': 1, 'ü': 6, 'g': 1, 'n': 3, ' ': 3, 'h': 1, 'z': 1, 'l': 1, 'y': 3, 'm': 1, '.': 4, 'P': 1, 't': 2, 'o': 2, 'b': 1, 'i': 2}\n"
          ]
        }
      ],
      "source": [
        "soz = \"Bügün hüzünlüyüm. Pyton bitiyo...\"\n",
        "word = {}\n",
        "\n",
        "for i in soz:\n",
        "  if i in word:\n",
        "    word[i] = word[i] + 1 \n",
        "  else:\n",
        "    word[i] = 1\n",
        "print(word)"
      ]
    },
    {
      "cell_type": "code",
      "source": [
        "\n"
      ],
      "metadata": {
        "id": "qzDEDoCE_O1A"
      },
      "execution_count": null,
      "outputs": []
    },
    {
      "cell_type": "code",
      "source": [
        "\n",
        "       \n",
        "  \n",
        "        "
      ],
      "metadata": {
        "id": "R-KV1Ueb_O4Y"
      },
      "execution_count": null,
      "outputs": []
    },
    {
      "cell_type": "code",
      "source": [
        ""
      ],
      "metadata": {
        "id": "vZhvxpXH_O7l"
      },
      "execution_count": null,
      "outputs": []
    },
    {
      "cell_type": "code",
      "source": [
        ""
      ],
      "metadata": {
        "id": "lKNLhQoB_O-5"
      },
      "execution_count": null,
      "outputs": []
    },
    {
      "cell_type": "code",
      "source": [
        ""
      ],
      "metadata": {
        "id": "MTuQFTt4_PCQ"
      },
      "execution_count": null,
      "outputs": []
    }
  ]
}